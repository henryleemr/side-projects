{
 "cells": [
  {
   "cell_type": "code",
   "execution_count": 1,
   "metadata": {
    "collapsed": true
   },
   "outputs": [],
   "source": [
    "import json\n",
    "import numpy as np\n",
    "import os\n",
    "import pandas as pd\n",
    "import urllib.request\n",
    " \n",
    "def JSONDictToDF(d):\n",
    "    '''\n",
    "    Converts a dictionary created from json.loads to a pandas dataframe\n",
    "    d:      The dictionary\n",
    "    '''\n",
    "    n = len(d)\n",
    "    cols = []\n",
    "    if n > 0:   #Place the column in sorted order\n",
    "        cols = sorted(list(d[0].keys()))\n",
    "    df = pd.DataFrame(columns = cols, index = range(n))\n",
    "    for i in range(n):\n",
    "        for coli in cols:\n",
    "            df.set_value(i, coli, d[i][coli])\n",
    "    return df\n",
    "     \n",
    "def GetAPIUrl(cur):\n",
    "    '''\n",
    "    Makes a URL for querying historical prices of a cyrpto from Poloniex\n",
    "    cur:    3 letter abbreviation for cryptocurrency (BTC, LTC, etc)\n",
    "    '''\n",
    "    u = 'https://poloniex.com/public?command=returnChartData&currencyPair=USDT_' + cur + '&start=1420070400&end=9999999999&period=7200'\n",
    "    return u\n",
    " \n",
    "def GetCurDF(cur, fp):\n",
    "    '''\n",
    "    cur:    3 letter abbreviation for cryptocurrency (BTC, LTC, etc)\n",
    "    fp:     File path (to save price data to CSV)\n",
    "    '''\n",
    "    openUrl = urllib.request.urlopen(GetAPIUrl(cur))\n",
    "    r = openUrl.read()\n",
    "    openUrl.close()\n",
    "    d = json.loads(r.decode())\n",
    "    df = JSONDictToDF(d)\n",
    "    df.to_csv(fp, sep = ',')\n",
    "    return df\n",
    " \n",
    "#%%Path to store cached currency data\n",
    "datPath = 'CurDat/'\n",
    "if not os.path.exists(datPath):\n",
    "    os.mkdir(datPath)\n",
    "#Different cryptocurrency types\n",
    "cl = ['BTC', 'LTC', 'ETH', 'XMR']\n",
    "#Columns of price data to use\n",
    "CN = ['close', 'high', 'low', 'open', 'volume']\n",
    "#Store data frames for each of above types\n",
    "D = []\n",
    "for ci in cl:\n",
    "    dfp = os.path.join(datPath, ci + '.csv')\n",
    "    try:\n",
    "        df = pd.read_csv(dfp, sep = ',')\n",
    "    except FileNotFoundError:\n",
    "        df = GetCurDF(ci, dfp)\n",
    "    D.append(df)\n",
    "#%%Only keep range of data that is common to all currency types\n",
    "cr = min(Di.shape[0] for Di in D)\n",
    "for i in range(len(cl)):\n",
    "    D[i] = D[i][(D[i].shape[0] - cr):]\n"
   ]
  },
  {
   "cell_type": "code",
   "execution_count": 2,
   "metadata": {
    "collapsed": true
   },
   "outputs": [],
   "source": [
    "import numpy as np\n",
    " \n",
    "class PastSampler:\n",
    "    '''\n",
    "    Forms training samples for predicting future values from past value\n",
    "    '''\n",
    "     \n",
    "    def __init__(self, N, K):\n",
    "        '''\n",
    "        Predict K future sample using N previous samples\n",
    "        '''\n",
    "        self.K = K\n",
    "        self.N = N\n",
    " \n",
    "    def transform(self, A, Y = None):\n",
    "        M = self.N + self.K     #Number of samples per row (sample + target)\n",
    "        #Matrix of sample indices like: {{1, 2..., M}, {2, 3, ..., M + 1}}\n",
    "        I = np.arange(M) + np.arange(A.shape[0] - M + 1).reshape(-1, 1)\n",
    "        B = A[I].reshape(-1, M * A.shape[1], *A.shape[2:])\n",
    "        ci = self.N * A.shape[1]    #Number of features per sample\n",
    "        return B[:, :ci], B[:, ci:] #Sample matrix, Target matrix"
   ]
  },
  {
   "cell_type": "code",
   "execution_count": 3,
   "metadata": {
    "collapsed": true
   },
   "outputs": [],
   "source": [
    "from PastSampler import PastSampler\n",
    " \n",
    "#%%Features are channels\n",
    "C = np.hstack((Di[CN] for Di in D))[:, None, :]\n",
    "HP = 16                 #Holdout period\n",
    "A = C[0:-HP]                \n",
    "SV = A.mean(axis = 0)   #Scale vector\n",
    "C /= SV                 #Basic scaling of data\n",
    "#%%Make samples of temporal sequences of pricing data (channel)\n",
    "NPS, NFS = 256, 16         #Number of past and future samples\n",
    "ps = PastSampler(NPS, NFS)\n",
    "B, Y = ps.transform(A)"
   ]
  },
  {
   "cell_type": "code",
   "execution_count": 4,
   "metadata": {},
   "outputs": [
    {
     "ename": "ModuleNotFoundError",
     "evalue": "No module named 'TFANN'",
     "output_type": "error",
     "traceback": [
      "\u001b[0;31m-----------------------------------------------------------------------\u001b[0m",
      "\u001b[0;31mModuleNotFoundError\u001b[0m                   Traceback (most recent call last)",
      "\u001b[0;32m<ipython-input-4-a117f5fce314>\u001b[0m in \u001b[0;36m<module>\u001b[0;34m()\u001b[0m\n\u001b[1;32m      1\u001b[0m \u001b[0;31m#%%Architecture of the neural network\u001b[0m\u001b[0;34m\u001b[0m\u001b[0;34m\u001b[0m\u001b[0m\n\u001b[0;32m----> 2\u001b[0;31m \u001b[0;32mfrom\u001b[0m \u001b[0mTFANN\u001b[0m \u001b[0;32mimport\u001b[0m \u001b[0mANNR\u001b[0m\u001b[0;34m\u001b[0m\u001b[0m\n\u001b[0m\u001b[1;32m      3\u001b[0m \u001b[0;34m\u001b[0m\u001b[0m\n\u001b[1;32m      4\u001b[0m \u001b[0mNC\u001b[0m \u001b[0;34m=\u001b[0m \u001b[0mB\u001b[0m\u001b[0;34m.\u001b[0m\u001b[0mshape\u001b[0m\u001b[0;34m[\u001b[0m\u001b[0;36m2\u001b[0m\u001b[0;34m]\u001b[0m\u001b[0;34m\u001b[0m\u001b[0m\n\u001b[1;32m      5\u001b[0m \u001b[0;31m#2 1-D conv layers with relu followed by 1-d conv output layer\u001b[0m\u001b[0;34m\u001b[0m\u001b[0;34m\u001b[0m\u001b[0m\n",
      "\u001b[0;31mModuleNotFoundError\u001b[0m: No module named 'TFANN'"
     ]
    }
   ],
   "source": [
    "#%%Architecture of the neural network\n",
    "from TFANN import ANNR\n",
    " \n",
    "NC = B.shape[2]\n",
    "#2 1-D conv layers with relu followed by 1-d conv output layer\n",
    "ns = [('C1d', [8, NC, NC * 2], 4), ('AF', 'relu'), \n",
    "      ('C1d', [8, NC * 2, NC * 2], 2), ('AF', 'relu'), \n",
    "      ('C1d', [8, NC * 2, NC], 2)]\n",
    "#Create the neural network in TensorFlow\n",
    "cnnr = ANNR(B[0].shape, ns, batchSize = 32, learnRate = 2e-5, \n",
    "            maxIter = 64, reg = 1e-5, tol = 1e-2, verbose = True)\n",
    "cnnr.fit(B, Y)"
   ]
  },
  {
   "cell_type": "code",
   "execution_count": null,
   "metadata": {
    "collapsed": true
   },
   "outputs": [],
   "source": []
  }
 ],
 "metadata": {
  "kernelspec": {
   "display_name": "Python 3",
   "language": "python",
   "name": "python3"
  },
  "language_info": {
   "codemirror_mode": {
    "name": "ipython",
    "version": 3
   },
   "file_extension": ".py",
   "mimetype": "text/x-python",
   "name": "python",
   "nbconvert_exporter": "python",
   "pygments_lexer": "ipython3",
   "version": "3.6.3"
  }
 },
 "nbformat": 4,
 "nbformat_minor": 2
}
